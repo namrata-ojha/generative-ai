{
  "cells": [
    {
      "cell_type": "markdown",
      "metadata": {
        "id": "view-in-github",
        "colab_type": "text"
      },
      "source": [
        "<a href=\"https://colab.research.google.com/github/namrata-ojha/generative-ai/blob/main/GradioUI.ipynb\" target=\"_parent\"><img src=\"https://colab.research.google.com/assets/colab-badge.svg\" alt=\"Open In Colab\"/></a>"
      ]
    },
    {
      "cell_type": "markdown",
      "id": "8b0e11f2-9ea4-48c2-b8d2-d0a4ba967827",
      "metadata": {
        "id": "8b0e11f2-9ea4-48c2-b8d2-d0a4ba967827"
      },
      "source": [
        "# Gradio Day!\n",
        "\n",
        "Today we will build User Interfaces using the outrageously simple Gradio framework.\n",
        "\n",
        "Prepare for joy!\n",
        "\n",
        "Please note: your Gradio screens may appear in 'dark mode' or 'light mode' depending on your computer settings."
      ]
    },
    {
      "cell_type": "code",
      "execution_count": 2,
      "id": "c44c5494-950d-4d2f-8d4f-b87b57c5b330",
      "metadata": {
        "id": "c44c5494-950d-4d2f-8d4f-b87b57c5b330"
      },
      "outputs": [],
      "source": [
        "# imports\n",
        "\n",
        "import os\n",
        "import requests\n",
        "from bs4 import BeautifulSoup\n",
        "from typing import List\n",
        "from openai import OpenAI\n",
        "import google.generativeai\n"
      ]
    },
    {
      "cell_type": "code",
      "execution_count": 3,
      "id": "d1715421-cead-400b-99af-986388a97aff",
      "metadata": {
        "id": "d1715421-cead-400b-99af-986388a97aff"
      },
      "outputs": [],
      "source": [
        "import gradio as gr # oh yeah!"
      ]
    },
    {
      "cell_type": "code",
      "source": [
        "from google.colab import userdata"
      ],
      "metadata": {
        "id": "9Ry1lPcuDWx_"
      },
      "id": "9Ry1lPcuDWx_",
      "execution_count": 4,
      "outputs": []
    },
    {
      "cell_type": "code",
      "execution_count": 6,
      "id": "337d5dfc-0181-4e3b-8ab9-e78e0c3f657b",
      "metadata": {
        "id": "337d5dfc-0181-4e3b-8ab9-e78e0c3f657b"
      },
      "outputs": [],
      "source": [
        "# Load environment variables in a file called .env\n",
        "# Print the key prefixes to help with any debugging\n",
        "\n",
        "from google.colab import userdata\n",
        "import os\n",
        "os.environ['GOOGLE_API_KEY'] = userdata.get('GEMINI_PRO_KEY')\n",
        "os.environ['OPENAI_API_KEY'] = userdata.get('OPENAI_API_KEY')\n"
      ]
    },
    {
      "cell_type": "code",
      "execution_count": 7,
      "id": "22586021-1795-4929-8079-63f5bb4edd4c",
      "metadata": {
        "id": "22586021-1795-4929-8079-63f5bb4edd4c"
      },
      "outputs": [],
      "source": [
        "# Connect to OpenAI, Anthropic and Google; comment out the Claude or Google lines if you're not using them\n",
        "\n",
        "openai = OpenAI()\n",
        "\n",
        "google.generativeai.configure()"
      ]
    },
    {
      "cell_type": "code",
      "execution_count": 8,
      "id": "b16e6021-6dc4-4397-985a-6679d6c8ffd5",
      "metadata": {
        "id": "b16e6021-6dc4-4397-985a-6679d6c8ffd5"
      },
      "outputs": [],
      "source": [
        "# A generic system message - no more snarky adversarial AIs!\n",
        "\n",
        "system_message = \"You are a helpful assistant\""
      ]
    },
    {
      "cell_type": "code",
      "execution_count": 9,
      "id": "02ef9b69-ef31-427d-86d0-b8c799e1c1b1",
      "metadata": {
        "id": "02ef9b69-ef31-427d-86d0-b8c799e1c1b1"
      },
      "outputs": [],
      "source": [
        "# Let's wrap a call to GPT-4o-mini in a simple function\n",
        "\n",
        "def message_gpt(prompt):\n",
        "    messages = [\n",
        "        {\"role\": \"system\", \"content\": system_message},\n",
        "        {\"role\": \"user\", \"content\": prompt}\n",
        "      ]\n",
        "    completion = openai.chat.completions.create(\n",
        "        model='gpt-4o-mini',\n",
        "        messages=messages,\n",
        "    )\n",
        "    return completion.choices[0].message.content"
      ]
    },
    {
      "cell_type": "code",
      "execution_count": 10,
      "id": "aef7d314-2b13-436b-b02d-8de3b72b193f",
      "metadata": {
        "colab": {
          "base_uri": "https://localhost:8080/",
          "height": 35
        },
        "id": "aef7d314-2b13-436b-b02d-8de3b72b193f",
        "outputId": "aee8c7e7-afb3-4439-a501-d4edbbfc8561"
      },
      "outputs": [
        {
          "output_type": "execute_result",
          "data": {
            "text/plain": [
              "\"Today's date is October 27, 2023.\""
            ],
            "application/vnd.google.colaboratory.intrinsic+json": {
              "type": "string"
            }
          },
          "metadata": {},
          "execution_count": 10
        }
      ],
      "source": [
        "# This can reveal the \"training cut off\", or the most recent date in the training data\n",
        "\n",
        "message_gpt(\"What is today's date?\")"
      ]
    },
    {
      "cell_type": "markdown",
      "id": "f94013d1-4f27-4329-97e8-8c58db93636a",
      "metadata": {
        "id": "f94013d1-4f27-4329-97e8-8c58db93636a"
      },
      "source": [
        "## User Interface time!"
      ]
    },
    {
      "cell_type": "code",
      "execution_count": 11,
      "id": "bc664b7a-c01d-4fea-a1de-ae22cdd5141a",
      "metadata": {
        "id": "bc664b7a-c01d-4fea-a1de-ae22cdd5141a"
      },
      "outputs": [],
      "source": [
        "# here's a simple function\n",
        "\n",
        "def shout(text):\n",
        "    print(f\"Shout has been called with input {text}\")\n",
        "    return text.upper()"
      ]
    },
    {
      "cell_type": "code",
      "execution_count": 12,
      "id": "083ea451-d3a0-4d13-b599-93ed49b975e4",
      "metadata": {
        "colab": {
          "base_uri": "https://localhost:8080/",
          "height": 52
        },
        "id": "083ea451-d3a0-4d13-b599-93ed49b975e4",
        "outputId": "cc80a29b-97e0-4d63-df04-e5282fa1808c"
      },
      "outputs": [
        {
          "output_type": "stream",
          "name": "stdout",
          "text": [
            "Shout has been called with input hello\n"
          ]
        },
        {
          "output_type": "execute_result",
          "data": {
            "text/plain": [
              "'HELLO'"
            ],
            "application/vnd.google.colaboratory.intrinsic+json": {
              "type": "string"
            }
          },
          "metadata": {},
          "execution_count": 12
        }
      ],
      "source": [
        "shout(\"hello\")"
      ]
    },
    {
      "cell_type": "code",
      "execution_count": 13,
      "id": "08f1f15a-122e-4502-b112-6ee2817dda32",
      "metadata": {
        "colab": {
          "base_uri": "https://localhost:8080/",
          "height": 645
        },
        "id": "08f1f15a-122e-4502-b112-6ee2817dda32",
        "outputId": "3969ae72-f967-4440-fa00-8bf8be164a45"
      },
      "outputs": [
        {
          "output_type": "stream",
          "name": "stdout",
          "text": [
            "It looks like you are running Gradio on a hosted a Jupyter notebook. For the Gradio app to work, sharing must be enabled. Automatically setting `share=True` (you can turn this off by setting `share=False` in `launch()` explicitly).\n",
            "\n",
            "Colab notebook detected. To show errors in colab notebook, set debug=True in launch()\n",
            "* Running on public URL: https://dd5e7f427f74fc8d6f.gradio.live\n",
            "\n",
            "This share link expires in 1 week. For free permanent hosting and GPU upgrades, run `gradio deploy` from the terminal in the working directory to deploy to Hugging Face Spaces (https://huggingface.co/spaces)\n"
          ]
        },
        {
          "output_type": "display_data",
          "data": {
            "text/plain": [
              "<IPython.core.display.HTML object>"
            ],
            "text/html": [
              "<div><iframe src=\"https://dd5e7f427f74fc8d6f.gradio.live\" width=\"100%\" height=\"500\" allow=\"autoplay; camera; microphone; clipboard-read; clipboard-write;\" frameborder=\"0\" allowfullscreen></iframe></div>"
            ]
          },
          "metadata": {}
        },
        {
          "output_type": "execute_result",
          "data": {
            "text/plain": []
          },
          "metadata": {},
          "execution_count": 13
        }
      ],
      "source": [
        "# The simplicty of gradio. This might appear in \"light mode\" - I'll show you how to make this in dark mode later.\n",
        "\n",
        "gr.Interface(fn=shout, inputs=\"textbox\", outputs=\"textbox\").launch()"
      ]
    },
    {
      "cell_type": "code",
      "execution_count": 14,
      "id": "c9a359a4-685c-4c99-891c-bb4d1cb7f426",
      "metadata": {
        "colab": {
          "base_uri": "https://localhost:8080/",
          "height": 610
        },
        "id": "c9a359a4-685c-4c99-891c-bb4d1cb7f426",
        "outputId": "56c86397-8f06-456e-a3d6-d0fe5c324c42"
      },
      "outputs": [
        {
          "output_type": "stream",
          "name": "stdout",
          "text": [
            "Colab notebook detected. To show errors in colab notebook, set debug=True in launch()\n",
            "* Running on public URL: https://03a7ac777f29fe0808.gradio.live\n",
            "\n",
            "This share link expires in 1 week. For free permanent hosting and GPU upgrades, run `gradio deploy` from the terminal in the working directory to deploy to Hugging Face Spaces (https://huggingface.co/spaces)\n"
          ]
        },
        {
          "output_type": "display_data",
          "data": {
            "text/plain": [
              "<IPython.core.display.HTML object>"
            ],
            "text/html": [
              "<div><iframe src=\"https://03a7ac777f29fe0808.gradio.live\" width=\"100%\" height=\"500\" allow=\"autoplay; camera; microphone; clipboard-read; clipboard-write;\" frameborder=\"0\" allowfullscreen></iframe></div>"
            ]
          },
          "metadata": {}
        },
        {
          "output_type": "execute_result",
          "data": {
            "text/plain": []
          },
          "metadata": {},
          "execution_count": 14
        }
      ],
      "source": [
        "# Adding share=True means that it can be accessed publically\n",
        "# A more permanent hosting is available using a platform called Spaces from HuggingFace, which we will touch on next week\n",
        "# NOTE: Some Anti-virus software and Corporate Firewalls might not like you using share=True. If you're at work on on a work network, I suggest skip this test.\n",
        "\n",
        "gr.Interface(fn=message_gpt, inputs=\"textbox\", outputs=\"textbox\", flagging_mode=\"never\").launch(share=True)"
      ]
    }
  ],
  "metadata": {
    "kernelspec": {
      "display_name": "Python 3 (ipykernel)",
      "language": "python",
      "name": "python3"
    },
    "language_info": {
      "codemirror_mode": {
        "name": "ipython",
        "version": 3
      },
      "file_extension": ".py",
      "mimetype": "text/x-python",
      "name": "python",
      "nbconvert_exporter": "python",
      "pygments_lexer": "ipython3",
      "version": "3.11.11"
    },
    "colab": {
      "provenance": [],
      "include_colab_link": true
    }
  },
  "nbformat": 4,
  "nbformat_minor": 5
}